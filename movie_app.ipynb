{
  "cells": [
    {
      "cell_type": "code",
      "execution_count": 1,
      "metadata": {
        "id": "54QvMAefaUKX"
      },
      "outputs": [],
      "source": [
        "from google.colab import drive"
      ]
    },
    {
      "cell_type": "code",
      "execution_count": 2,
      "metadata": {
        "colab": {
          "base_uri": "https://localhost:8080/"
        },
        "id": "G6Xt_GLxa3hf",
        "outputId": "6c047c2f-0604-4b0a-f2c8-25bdbb90887b"
      },
      "outputs": [
        {
          "name": "stdout",
          "output_type": "stream",
          "text": [
            "Drive already mounted at /content/drive; to attempt to forcibly remount, call drive.mount(\"/content/drive\", force_remount=True).\n"
          ]
        }
      ],
      "source": [
        "drive.mount('/content/drive')"
      ]
    },
    {
      "cell_type": "code",
      "execution_count": 5,
      "metadata": {
        "id": "It3HRUBXbJ2W"
      },
      "outputs": [],
      "source": [
        "import pandas as pd"
      ]
    },
    {
      "cell_type": "code",
      "execution_count": 5,
      "metadata": {
        "id": "Vi_UsW0QbVaN"
      },
      "outputs": [],
      "source": [
        "movies=pd.read_csv('/content/drive/My Drive/movies.csv')"
      ]
    },
    {
      "cell_type": "code",
      "execution_count": 5,
      "metadata": {
        "colab": {
          "base_uri": "https://localhost:8080/"
        },
        "id": "ijsVpJD9bmvy",
        "outputId": "3cb9b7c2-c34c-4be0-dd6d-91df5b035afb"
      },
      "outputs": [
        {
          "name": "stdout",
          "output_type": "stream",
          "text": [
            "Using device: cuda:0\n",
            "Epoch 1, Loss: 0.916826940389185\n",
            "Epoch 2, Loss: 0.7906666464773537\n",
            "Epoch 3, Loss: 0.7240812297957607\n",
            "Epoch 4, Loss: 0.6741119217882051\n",
            "Epoch 5, Loss: 0.6316693996232522\n",
            "Epoch 6, Loss: 0.5932184168479487\n",
            "Epoch 7, Loss: 0.5581033927258812\n",
            "Epoch 8, Loss: 0.5242069705943518\n",
            "Epoch 9, Loss: 0.49219530488399765\n",
            "Epoch 10, Loss: 0.46183034732843503\n",
            "Epoch 11, Loss: 0.4338382529566371\n",
            "Epoch 12, Loss: 0.40615494346505476\n",
            "Epoch 13, Loss: 0.380345976817174\n",
            "Epoch 14, Loss: 0.35780590648845406\n",
            "Epoch 15, Loss: 0.3356614008168631\n",
            "Epoch 16, Loss: 0.31608858425170183\n",
            "Epoch 17, Loss: 0.2969270701154689\n",
            "Epoch 18, Loss: 0.2801703065280107\n",
            "Epoch 19, Loss: 0.26477459866459235\n",
            "Test Loss: 0.9945524416099756\n"
          ]
        }
      ],
      "source": [
        "import pandas as pd\n",
        "from sklearn.preprocessing import MultiLabelBinarizer\n",
        "import torch\n",
        "import torch.nn as nn\n",
        "import torch.optim as optim\n",
        "from torch.utils.data import DataLoader, Dataset\n",
        "from sklearn.model_selection import train_test_split\n",
        "import numpy as np\n",
        "\n",
        "# Function to split data evenly based on user IDs\n",
        "def split_data_evenly(data, test_size=0.2):\n",
        "    test_data = pd.DataFrame()\n",
        "    train_data = pd.DataFrame()\n",
        "\n",
        "    # Group data by user ID\n",
        "    grouped = data.groupby('userId')\n",
        "\n",
        "    for user_id, group in grouped:\n",
        "        # Split each user's reviews evenly\n",
        "        n = len(group)\n",
        "        test_indices = np.random.choice(group.index, size=int(test_size * n), replace=False)\n",
        "\n",
        "        # Assign reviews to test dataset\n",
        "        test_data = pd.concat([test_data, group.loc[test_indices]])\n",
        "\n",
        "        # Assign remaining reviews to training dataset\n",
        "        train_data = pd.concat([train_data, group.drop(test_indices)])\n",
        "\n",
        "    return train_data, test_data\n",
        "\n",
        "# Load data\n",
        "movies=pd.read_csv('/content/drive/My Drive/movies.csv')\n",
        "ratings = pd.read_csv('/content/drive/My Drive/ratings.csv')\n",
        "\n",
        "# Merge ratings with movie titles\n",
        "merged_data = pd.merge(ratings, movies, on='movieId')\n",
        "\n",
        "# Convert genres into numerical features using one-hot encoding\n",
        "genres = merged_data['genres'].str.split('|')\n",
        "mlb = MultiLabelBinarizer()\n",
        "genre_features = pd.DataFrame(mlb.fit_transform(genres), columns=mlb.classes_, index=merged_data.index)\n",
        "\n",
        "# Concatenate genre features with ratings data\n",
        "merged_data = pd.concat([merged_data, genre_features], axis=1)\n",
        "\n",
        "# Split the data into training and testing sets\n",
        "train_data, test_data = split_data_evenly(merged_data)\n",
        "\n",
        "# Check GPU availability\n",
        "device = torch.device('cuda:0' if torch.cuda.is_available() else 'cpu')\n",
        "print(f\"Using device: {device}\")\n",
        "\n",
        "# Define PyTorch dataset\n",
        "class RecommendationDataset(Dataset):\n",
        "    def __init__(self, data):\n",
        "        self.user_ids = torch.tensor(data['userId'].values, dtype=torch.long).to(device)\n",
        "        self.movie_ids = torch.tensor(data['movieId'].values, dtype=torch.long).to(device)\n",
        "        self.genre_features = torch.tensor(data.iloc[:, 6:].values, dtype=torch.float32).to(device)\n",
        "        self.ratings = torch.tensor(data['rating'].values, dtype=torch.float32).to(device)\n",
        "\n",
        "    def __len__(self):\n",
        "        return len(self.user_ids)\n",
        "\n",
        "    def __getitem__(self, idx):\n",
        "        return self.user_ids[idx], self.movie_ids[idx], self.genre_features[idx], self.ratings[idx]\n",
        "\n",
        "# Create datasets and data loaders\n",
        "train_dataset = RecommendationDataset(train_data)\n",
        "test_dataset = RecommendationDataset(test_data)\n",
        "train_loader = DataLoader(train_dataset, batch_size=64, shuffle=True)\n",
        "test_loader = DataLoader(test_dataset, batch_size=64)\n",
        "\n",
        "# Define model\n",
        "class RecommendationModel(nn.Module):\n",
        "    def __init__(self, num_users, num_movies, num_genres):\n",
        "        super(RecommendationModel, self).__init__()\n",
        "        self.user_embedding = nn.Embedding(num_users, 50).to(device)\n",
        "        self.movie_embedding = nn.Embedding(num_movies, 50).to(device)\n",
        "        self.genre_linear = nn.Linear(num_genres, 50).to(device)\n",
        "        self.concat_layer = nn.Linear(150, 128).to(device)\n",
        "        self.relu = nn.ReLU()\n",
        "        self.dropout = nn.Dropout(0.2)  # Add dropout for regularization\n",
        "        self.output_layer = nn.Linear(128, 1).to(device)\n",
        "        self.sigmoid = nn.Sigmoid().to(device)\n",
        "\n",
        "\n",
        "    def forward(self, user_ids, movie_ids, genre_features):\n",
        "        user_embedded = self.user_embedding(user_ids)\n",
        "        movie_embedded = self.movie_embedding(movie_ids)\n",
        "        genre_linear = self.relu(self.genre_linear(genre_features))\n",
        "        concatenated = torch.cat((user_embedded, movie_embedded, genre_linear), dim=1)\n",
        "        out = self.relu(self.concat_layer(concatenated))\n",
        "        out = self.output_layer(out)\n",
        "        out = self.sigmoid(out)  # Apply sigmoid activation function\n",
        "        out = out * 5.0\n",
        "        return out.squeeze()\n",
        "\n",
        "# Instantiate model and define loss function and optimizer\n",
        "model = RecommendationModel(ratings['userId'].nunique()+1, movies['movieId'].max()+1, len(mlb.classes_))\n",
        "criterion = nn.MSELoss()\n",
        "optimizer = optim.Adam(model.parameters())\n",
        "\n",
        "# Training loop\n",
        "for epoch in range(19):\n",
        "    model.train()\n",
        "    running_loss = 0.0\n",
        "    for user_ids, movie_ids, genre_features, ratings in train_loader:\n",
        "\n",
        "        optimizer.zero_grad()\n",
        "        outputs = model(user_ids, movie_ids, genre_features)\n",
        "        loss = criterion(outputs, ratings)\n",
        "        loss.backward()\n",
        "        optimizer.step()\n",
        "        running_loss += loss.item()\n",
        "    print(f\"Epoch {epoch+1}, Loss: {running_loss / len(train_loader)}\")\n",
        "\n",
        "# Evaluation\n",
        "model.eval()\n",
        "test_loss = 0.0\n",
        "with torch.no_grad():\n",
        "    for user_ids, movie_ids, genre_features, ratings in test_loader:\n",
        "        outputs = model(user_ids, movie_ids, genre_features)\n",
        "        test_loss += criterion(outputs, ratings).item()\n",
        "print(f\"Test Loss: {test_loss / len(test_loader)}\")\n"
      ]
    },
    {
      "cell_type": "code",
      "execution_count": 6,
      "metadata": {
        "id": "cx5uF0DRtSnM"
      },
      "outputs": [],
      "source": [
        "def get_top5_recommendations(model, user_Id, movie_Ids, genre_features):\n",
        "    # Prepare input tensors\n",
        "    user_Ids = torch.tensor(np.array([user_Id] * len(movie_Ids)),dtype=torch.long).to(device)\n",
        "    movie_Ids = torch.tensor(movie_Ids,dtype=torch.long).to(device)\n",
        "    genre_features = torch.tensor(genre_features.values,dtype=torch.float32).to(device)  # Assuming genre_features is a tensor\n",
        "\n",
        "\n",
        "    print(\"t\")\n",
        "\n",
        "    # Forward pass to get predictions\n",
        "    model.eval()\n",
        "    with torch.no_grad():\n",
        "        predictions = model(user_Ids, movie_Ids, genre_features).squeeze()\n",
        "\n",
        "    print(\"h\")\n",
        "\n",
        "    # Sort predicted ratings in descending order and get top 5 indices\n",
        "    top5_indices = predictions.argsort(descending=True)[:5]\n",
        "\n",
        "    # Get top 5 movie IDs and predicted ratings\n",
        "    top5_movie_ids = movie_Ids[top5_indices]\n",
        "    top5_ratings = predictions[top5_indices]\n",
        "\n",
        "    return top5_movie_ids, top5_ratings\n",
        "\n",
        "\n"
      ]
    },
    {
      "cell_type": "code",
      "execution_count": 7,
      "metadata": {
        "colab": {
          "base_uri": "https://localhost:8080/"
        },
        "id": "UtA7nK5Tzwpv",
        "outputId": "9e46d1e3-217f-4fb6-c5c4-4313642c7664"
      },
      "outputs": [
        {
          "name": "stdout",
          "output_type": "stream",
          "text": [
            "Shape of movie IDs: (9742,)\n",
            "<class 'pandas.core.series.Series'>\n",
            "Shape of genre features: (9742, 20)\n",
            "<class 'pandas.core.frame.DataFrame'>\n",
            "t\n",
            "h\n",
            "Top 5 Recommendations for User 1\n",
            "Movie ID: 5490 Rating: 4.987458229064941\n",
            "Movie ID: 7121 Rating: 4.95017147064209\n",
            "Movie ID: 136445 Rating: 4.946697235107422\n",
            "Movie ID: 102084 Rating: 4.943048477172852\n",
            "Movie ID: 3473 Rating: 4.943009853363037\n"
          ]
        }
      ],
      "source": [
        "# Extract movie IDs from the preprocessed dataset\n",
        "movie_ids = movies['movieId']\n",
        "\n",
        "# Extract genre features from the preprocessed dataset # Assuming genre features start from the 7th column\n",
        "\n",
        "# Print shapes of movie IDs and genre features\n",
        "print(\"Shape of movie IDs:\", movie_ids.shape)\n",
        "print(type(movie_ids))\n",
        "\n",
        "genre_features=movies['genres'].str.split('|')\n",
        "\n",
        "genre_features = pd.DataFrame(mlb.fit_transform(genre_features), columns=mlb.classes_, index=movies.index)\n",
        "print(\"Shape of genre features:\", genre_features.shape)\n",
        "print(type(genre_features))\n",
        "\n",
        "\n",
        "# Example usage\n",
        "user_id = 1  # User ID for which you want recommendations\n",
        "# Assuming movie_ids and genre_features are available\n",
        "top5_movie_ids, top5_ratings = get_top5_recommendations(model, user_id, movie_ids, genre_features)\n",
        "\n",
        "# Print top 5 recommendations\n",
        "print(\"Top 5 Recommendations for User\", user_id)\n",
        "for movie_id, rating in zip(top5_movie_ids, top5_ratings):\n",
        "    print(\"Movie ID:\", movie_id.item(), \"Rating:\", rating.item())\n"
      ]
    }
  ],
  "metadata": {
    "accelerator": "GPU",
    "colab": {
      "gpuType": "T4",
      "provenance": []
    },
    "kernelspec": {
      "display_name": "Python 3",
      "name": "python3"
    },
    "language_info": {
      "name": "python",
      "version": "3.9.7"
    }
  },
  "nbformat": 4,
  "nbformat_minor": 0
}
