{
  "cells": [
    {
      "cell_type": "code",
      "execution_count": 4,
      "metadata": {
        "id": "54QvMAefaUKX"
      },
      "outputs": [
        {
          "ename": "ModuleNotFoundError",
          "evalue": "No module named 'google.colab'",
          "output_type": "error",
          "traceback": [
            "\u001b[0;31m---------------------------------------------------------------------------\u001b[0m",
            "\u001b[0;31mModuleNotFoundError\u001b[0m                       Traceback (most recent call last)",
            "\u001b[0;32m/tmp/ipykernel_6277/859145840.py\u001b[0m in \u001b[0;36m<module>\u001b[0;34m\u001b[0m\n\u001b[0;32m----> 1\u001b[0;31m \u001b[0;32mfrom\u001b[0m \u001b[0mgoogle\u001b[0m\u001b[0;34m.\u001b[0m\u001b[0mcolab\u001b[0m \u001b[0;32mimport\u001b[0m \u001b[0mdrive\u001b[0m\u001b[0;34m\u001b[0m\u001b[0;34m\u001b[0m\u001b[0m\n\u001b[0m",
            "\u001b[0;31mModuleNotFoundError\u001b[0m: No module named 'google.colab'"
          ]
        }
      ],
      "source": [
        "from google.colab import drive"
      ]
    },
    {
      "cell_type": "code",
      "execution_count": 2,
      "metadata": {
        "colab": {
          "base_uri": "https://localhost:8080/"
        },
        "id": "G6Xt_GLxa3hf",
        "outputId": "6c047c2f-0604-4b0a-f2c8-25bdbb90887b"
      },
      "outputs": [
        {
          "name": "stdout",
          "output_type": "stream",
          "text": [
            "Drive already mounted at /content/drive; to attempt to forcibly remount, call drive.mount(\"/content/drive\", force_remount=True).\n"
          ]
        }
      ],
      "source": [
        "drive.mount('/content/drive')"
      ]
    },
    {
      "cell_type": "code",
      "execution_count": 6,
      "metadata": {
        "id": "It3HRUBXbJ2W"
      },
      "outputs": [],
      "source": [
        "import pandas as pd"
      ]
    },
    {
      "cell_type": "code",
      "execution_count": 9,
      "metadata": {
        "id": "Vi_UsW0QbVaN"
      },
      "outputs": [
        {
          "data": {
            "text/html": [
              "<div>\n",
              "<style scoped>\n",
              "    .dataframe tbody tr th:only-of-type {\n",
              "        vertical-align: middle;\n",
              "    }\n",
              "\n",
              "    .dataframe tbody tr th {\n",
              "        vertical-align: top;\n",
              "    }\n",
              "\n",
              "    .dataframe thead th {\n",
              "        text-align: right;\n",
              "    }\n",
              "</style>\n",
              "<table border=\"1\" class=\"dataframe\">\n",
              "  <thead>\n",
              "    <tr style=\"text-align: right;\">\n",
              "      <th></th>\n",
              "      <th>movieId</th>\n",
              "      <th>title</th>\n",
              "      <th>genres</th>\n",
              "    </tr>\n",
              "  </thead>\n",
              "  <tbody>\n",
              "    <tr>\n",
              "      <th>0</th>\n",
              "      <td>1</td>\n",
              "      <td>Toy Story (1995)</td>\n",
              "      <td>Adventure|Animation|Children|Comedy|Fantasy</td>\n",
              "    </tr>\n",
              "    <tr>\n",
              "      <th>1</th>\n",
              "      <td>2</td>\n",
              "      <td>Jumanji (1995)</td>\n",
              "      <td>Adventure|Children|Fantasy</td>\n",
              "    </tr>\n",
              "    <tr>\n",
              "      <th>2</th>\n",
              "      <td>3</td>\n",
              "      <td>Grumpier Old Men (1995)</td>\n",
              "      <td>Comedy|Romance</td>\n",
              "    </tr>\n",
              "    <tr>\n",
              "      <th>3</th>\n",
              "      <td>4</td>\n",
              "      <td>Waiting to Exhale (1995)</td>\n",
              "      <td>Comedy|Drama|Romance</td>\n",
              "    </tr>\n",
              "    <tr>\n",
              "      <th>4</th>\n",
              "      <td>5</td>\n",
              "      <td>Father of the Bride Part II (1995)</td>\n",
              "      <td>Comedy</td>\n",
              "    </tr>\n",
              "  </tbody>\n",
              "</table>\n",
              "</div>"
            ],
            "text/plain": [
              "   movieId                               title  \\\n",
              "0        1                    Toy Story (1995)   \n",
              "1        2                      Jumanji (1995)   \n",
              "2        3             Grumpier Old Men (1995)   \n",
              "3        4            Waiting to Exhale (1995)   \n",
              "4        5  Father of the Bride Part II (1995)   \n",
              "\n",
              "                                        genres  \n",
              "0  Adventure|Animation|Children|Comedy|Fantasy  \n",
              "1                   Adventure|Children|Fantasy  \n",
              "2                               Comedy|Romance  \n",
              "3                         Comedy|Drama|Romance  \n",
              "4                                       Comedy  "
            ]
          },
          "execution_count": 9,
          "metadata": {},
          "output_type": "execute_result"
        }
      ],
      "source": [
        "movies=pd.read_csv('movies.csv')\n",
        "\n",
        "movies.head()\n"
      ]
    },
    {
      "cell_type": "code",
      "execution_count": 11,
      "metadata": {
        "colab": {
          "base_uri": "https://localhost:8080/"
        },
        "id": "ijsVpJD9bmvy",
        "outputId": "3cb9b7c2-c34c-4be0-dd6d-91df5b035afb"
      },
      "outputs": [
        {
          "name": "stdout",
          "output_type": "stream",
          "text": [
            "Using device: cpu\n",
            "Epoch 1, Loss: 0.9077923140854021\n",
            "Epoch 2, Loss: 0.7847464633044563\n",
            "Epoch 3, Loss: 0.7188729964715393\n",
            "Epoch 4, Loss: 0.6696586824859245\n",
            "Epoch 5, Loss: 0.6269952590706982\n",
            "Epoch 6, Loss: 0.5888721381278732\n",
            "Epoch 7, Loss: 0.5521271835918291\n",
            "Epoch 8, Loss: 0.5180754774261879\n",
            "Epoch 9, Loss: 0.48619593790720533\n",
            "Epoch 10, Loss: 0.4575817125814059\n",
            "Epoch 11, Loss: 0.4278025679007361\n",
            "Epoch 12, Loss: 0.4010442051022679\n",
            "Epoch 13, Loss: 0.3765669978707086\n",
            "Epoch 14, Loss: 0.3536398146961686\n",
            "Epoch 15, Loss: 0.33163741394830276\n",
            "Epoch 16, Loss: 0.3119198723071361\n",
            "Epoch 17, Loss: 0.2936383659916022\n",
            "Epoch 18, Loss: 0.2767031889031582\n",
            "Epoch 19, Loss: 0.2612700723818963\n",
            "Test Loss: 1.0003273969468398\n"
          ]
        }
      ],
      "source": [
        "import pandas as pd\n",
        "from sklearn.preprocessing import MultiLabelBinarizer\n",
        "import torch\n",
        "import torch.nn as nn\n",
        "import torch.optim as optim\n",
        "from torch.utils.data import DataLoader, Dataset\n",
        "from sklearn.model_selection import train_test_split\n",
        "import numpy as np\n",
        "\n",
        "# Function to split data evenly based on user IDs\n",
        "def split_data_evenly(data, test_size=0.2):\n",
        "    test_data = pd.DataFrame()\n",
        "    train_data = pd.DataFrame()\n",
        "\n",
        "    # Group data by user ID\n",
        "    grouped = data.groupby('userId')\n",
        "\n",
        "    for user_id, group in grouped:\n",
        "        # Split each user's reviews evenly\n",
        "        n = len(group)\n",
        "        test_indices = np.random.choice(group.index, size=int(test_size * n), replace=False)\n",
        "\n",
        "        # Assign reviews to test dataset\n",
        "        test_data = pd.concat([test_data, group.loc[test_indices]])\n",
        "\n",
        "        # Assign remaining reviews to training dataset\n",
        "        train_data = pd.concat([train_data, group.drop(test_indices)])\n",
        "\n",
        "    return train_data, test_data\n",
        "\n",
        "# Load data\n",
        "movies=pd.read_csv('movies.csv')\n",
        "ratings = pd.read_csv('ratings.csv')\n",
        "\n",
        "# Merge ratings with movie titles\n",
        "merged_data = pd.merge(ratings, movies, on='movieId')\n",
        "\n",
        "# Convert genres into numerical features using one-hot encoding\n",
        "genres = merged_data['genres'].str.split('|')\n",
        "mlb = MultiLabelBinarizer()\n",
        "genre_features = pd.DataFrame(mlb.fit_transform(genres), columns=mlb.classes_, index=merged_data.index)\n",
        "\n",
        "# Concatenate genre features with ratings data\n",
        "merged_data = pd.concat([merged_data, genre_features], axis=1)\n",
        "\n",
        "# Split the data into training and testing sets\n",
        "train_data, test_data = split_data_evenly(merged_data)\n",
        "\n",
        "# Check GPU availability\n",
        "device = torch.device('cuda:0' if torch.cuda.is_available() else 'cpu')\n",
        "print(f\"Using device: {device}\")\n",
        "\n",
        "# Define PyTorch dataset\n",
        "class RecommendationDataset(Dataset):\n",
        "    def __init__(self, data):\n",
        "        self.user_ids = torch.tensor(data['userId'].values, dtype=torch.long).to(device)\n",
        "        self.movie_ids = torch.tensor(data['movieId'].values, dtype=torch.long).to(device)\n",
        "        self.genre_features = torch.tensor(data.iloc[:, 6:].values, dtype=torch.float32).to(device)\n",
        "        self.ratings = torch.tensor(data['rating'].values, dtype=torch.float32).to(device)\n",
        "\n",
        "    def __len__(self):\n",
        "        return len(self.user_ids)\n",
        "\n",
        "    def __getitem__(self, idx):\n",
        "        return self.user_ids[idx], self.movie_ids[idx], self.genre_features[idx], self.ratings[idx]\n",
        "\n",
        "# Create datasets and data loaders\n",
        "train_dataset = RecommendationDataset(train_data)\n",
        "test_dataset = RecommendationDataset(test_data)\n",
        "train_loader = DataLoader(train_dataset, batch_size=64, shuffle=True)\n",
        "test_loader = DataLoader(test_dataset, batch_size=64)\n",
        "\n",
        "# Define model\n",
        "class RecommendationModel(nn.Module):\n",
        "    def __init__(self, num_users, num_movies, num_genres):\n",
        "        super(RecommendationModel, self).__init__()\n",
        "        self.user_embedding = nn.Embedding(num_users, 50).to(device)\n",
        "        self.movie_embedding = nn.Embedding(num_movies, 50).to(device)\n",
        "        self.genre_linear = nn.Linear(num_genres, 50).to(device)\n",
        "        self.concat_layer = nn.Linear(150, 128).to(device)\n",
        "        self.relu = nn.ReLU()\n",
        "        self.dropout = nn.Dropout(0.2)  # Add dropout for regularization\n",
        "        self.output_layer = nn.Linear(128, 1).to(device)\n",
        "        self.sigmoid = nn.Sigmoid().to(device)\n",
        "\n",
        "\n",
        "    def forward(self, user_ids, movie_ids, genre_features):\n",
        "        user_embedded = self.user_embedding(user_ids)\n",
        "        movie_embedded = self.movie_embedding(movie_ids)\n",
        "        genre_linear = self.relu(self.genre_linear(genre_features))\n",
        "        concatenated = torch.cat((user_embedded, movie_embedded, genre_linear), dim=1)\n",
        "        out = self.relu(self.concat_layer(concatenated))\n",
        "        out = self.output_layer(out)\n",
        "        out = self.sigmoid(out)  # Apply sigmoid activation function\n",
        "        out = out * 5.0\n",
        "        return out.squeeze()\n",
        "\n",
        "# Instantiate model and define loss function and optimizer\n",
        "model = RecommendationModel(ratings['userId'].nunique()+1, movies['movieId'].max()+1, len(mlb.classes_))\n",
        "criterion = nn.MSELoss()\n",
        "optimizer = optim.Adam(model.parameters())\n",
        "\n",
        "# Training loop\n",
        "for epoch in range(19):\n",
        "    model.train()\n",
        "    running_loss = 0.0\n",
        "    for user_ids, movie_ids, genre_features, ratings in train_loader:\n",
        "\n",
        "        optimizer.zero_grad()\n",
        "        outputs = model(user_ids, movie_ids, genre_features)\n",
        "        loss = criterion(outputs, ratings)\n",
        "        loss.backward()\n",
        "        optimizer.step()\n",
        "        running_loss += loss.item()\n",
        "    print(f\"Epoch {epoch+1}, Loss: {running_loss / len(train_loader)}\")\n",
        "\n",
        "# Evaluation\n",
        "model.eval()\n",
        "test_loss = 0.0\n",
        "with torch.no_grad():\n",
        "    for user_ids, movie_ids, genre_features, ratings in test_loader:\n",
        "        outputs = model(user_ids, movie_ids, genre_features)\n",
        "        test_loss += criterion(outputs, ratings).item()\n",
        "print(f\"Test Loss: {test_loss / len(test_loader)}\")\n"
      ]
    },
    {
      "cell_type": "code",
      "execution_count": 12,
      "metadata": {
        "id": "cx5uF0DRtSnM"
      },
      "outputs": [],
      "source": [
        "def get_top5_recommendations(model, user_Id, movie_Ids, genre_features):\n",
        "    # Prepare input tensors\n",
        "    user_Ids = torch.tensor(np.array([user_Id] * len(movie_Ids)),dtype=torch.long).to(device)\n",
        "    movie_Ids = torch.tensor(movie_Ids,dtype=torch.long).to(device)\n",
        "    genre_features = torch.tensor(genre_features.values,dtype=torch.float32).to(device)  # Assuming genre_features is a tensor\n",
        "\n",
        "\n",
        "    print(\"t\")\n",
        "\n",
        "    # Forward pass to get predictions\n",
        "    model.eval()\n",
        "    with torch.no_grad():\n",
        "        predictions = model(user_Ids, movie_Ids, genre_features).squeeze()\n",
        "\n",
        "    print(\"h\")\n",
        "\n",
        "    # Sort predicted ratings in descending order and get top 5 indices\n",
        "    top5_indices = predictions.argsort(descending=True)[:5]\n",
        "\n",
        "    # Get top 5 movie IDs and predicted ratings\n",
        "    top5_movie_ids = movie_Ids[top5_indices]\n",
        "    top5_ratings = predictions[top5_indices]\n",
        "\n",
        "    return top5_movie_ids, top5_ratings\n",
        "\n",
        "\n"
      ]
    },
    {
      "cell_type": "code",
      "execution_count": 13,
      "metadata": {
        "colab": {
          "base_uri": "https://localhost:8080/"
        },
        "id": "UtA7nK5Tzwpv",
        "outputId": "9e46d1e3-217f-4fb6-c5c4-4313642c7664"
      },
      "outputs": [
        {
          "name": "stdout",
          "output_type": "stream",
          "text": [
            "Shape of movie IDs: (9742,)\n",
            "<class 'pandas.core.series.Series'>\n",
            "Shape of genre features: (9742, 20)\n",
            "<class 'pandas.core.frame.DataFrame'>\n",
            "t\n",
            "h\n",
            "Top 5 Recommendations for User 1\n",
            "Movie ID: 334 Rating: 4.994996070861816\n",
            "Movie ID: 90943 Rating: 4.994876861572266\n",
            "Movie ID: 177593 Rating: 4.993140697479248\n",
            "Movie ID: 95311 Rating: 4.993112564086914\n",
            "Movie ID: 175397 Rating: 4.991858959197998\n"
          ]
        }
      ],
      "source": [
        "# Extract movie IDs from the preprocessed dataset\n",
        "movie_ids = movies['movieId']\n",
        "\n",
        "# Extract genre features from the preprocessed dataset # Assuming genre features start from the 7th column\n",
        "\n",
        "# Print shapes of movie IDs and genre features\n",
        "print(\"Shape of movie IDs:\", movie_ids.shape)\n",
        "print(type(movie_ids))\n",
        "\n",
        "genre_features=movies['genres'].str.split('|')\n",
        "\n",
        "genre_features = pd.DataFrame(mlb.fit_transform(genre_features), columns=mlb.classes_, index=movies.index)\n",
        "print(\"Shape of genre features:\", genre_features.shape)\n",
        "print(type(genre_features))\n",
        "\n",
        "\n",
        "# Example usage\n",
        "user_id = 1  # User ID for which you want recommendations\n",
        "# Assuming movie_ids and genre_features are available\n",
        "top5_movie_ids, top5_ratings = get_top5_recommendations(model, user_id, movie_ids, genre_features)\n",
        "\n",
        "# Print top 5 recommendations\n",
        "print(\"Top 5 Recommendations for User\", user_id)\n",
        "for movie_id, rating in zip(top5_movie_ids, top5_ratings):\n",
        "    print(\"Movie ID:\", movie_id.item(), \"Rating:\", rating.item())\n"
      ]
    },
    {
      "cell_type": "code",
      "execution_count": 14,
      "metadata": {},
      "outputs": [],
      "source": [
        "import pickle"
      ]
    },
    {
      "cell_type": "code",
      "execution_count": 15,
      "metadata": {},
      "outputs": [
        {
          "name": "stdout",
          "output_type": "stream",
          "text": [
            "Model saved successfully to movie_app\n"
          ]
        }
      ],
      "source": [
        "\n",
        "with open(\"movie_app.pkl\", 'wb') as file:\n",
        "    pickle.dump(model, file)\n",
        "    \n",
        "print(\"Model saved successfully to movie_app\")\n",
        "    \n",
        "    "
      ]
    }
  ],
  "metadata": {
    "accelerator": "GPU",
    "colab": {
      "gpuType": "T4",
      "provenance": []
    },
    "kernelspec": {
      "display_name": "Python 3",
      "name": "python3"
    },
    "language_info": {
      "codemirror_mode": {
        "name": "ipython",
        "version": 3
      },
      "file_extension": ".py",
      "mimetype": "text/x-python",
      "name": "python",
      "nbconvert_exporter": "python",
      "pygments_lexer": "ipython3",
      "version": "3.9.7"
    }
  },
  "nbformat": 4,
  "nbformat_minor": 0
}
